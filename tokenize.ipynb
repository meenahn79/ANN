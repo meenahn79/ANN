{
  "nbformat": 4,
  "nbformat_minor": 0,
  "metadata": {
    "colab": {
      "name": "tokenize.ipynb",
      "provenance": [],
      "authorship_tag": "ABX9TyP42Gs2K5jkItT+tQ0kkzut",
      "include_colab_link": true
    },
    "kernelspec": {
      "name": "python3",
      "display_name": "Python 3"
    }
  },
  "cells": [
    {
      "cell_type": "markdown",
      "metadata": {
        "id": "view-in-github",
        "colab_type": "text"
      },
      "source": [
        "<a href=\"https://colab.research.google.com/github/meenahn79/ANN/blob/master/tokenize.ipynb\" target=\"_parent\"><img src=\"https://colab.research.google.com/assets/colab-badge.svg\" alt=\"Open In Colab\"/></a>"
      ]
    },
    {
      "cell_type": "code",
      "metadata": {
        "id": "-bhfkHy5INDP",
        "colab_type": "code",
        "colab": {}
      },
      "source": [
        "import nltk\n",
        "\n",
        "text = \"This is a sample sentence. Webex session on NLP.showing off the stop words filtration.\"\n",
        "\n",
        "word_tokens = nltk.word_tokenize(text)\n",
        "print(\"-----------------------------------\")\n",
        "print (\"WORD TOKENS\\n\",word_tokens)\n",
        "print(\"-----------------------------------\")\n",
        "sent_token = nltk.sent_tokenize(text)\n",
        "print (\"SENTENCE TOKENS\\n\",sent_token)"
      ],
      "execution_count": 0,
      "outputs": []
    }
  ]
}